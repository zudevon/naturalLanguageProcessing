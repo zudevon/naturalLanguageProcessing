{
 "cells": [
  {
   "cell_type": "markdown",
   "metadata": {},
   "source": [
    "# Spell Checking function"
   ]
  },
  {
   "cell_type": "code",
   "execution_count": 1,
   "metadata": {},
   "outputs": [],
   "source": [
    "import fuzzywuzzy\n",
    "import nltk\n",
    "from spellchecker import SpellChecker\n"
   ]
  },
  {
   "cell_type": "code",
   "execution_count": 14,
   "metadata": {},
   "outputs": [],
   "source": [
    "ex_sentence = 'hllo threr iam devon.'\n",
    "ex_sentence2= 'teh ct iscool dont yuo thnk'"
   ]
  },
  {
   "cell_type": "code",
   "execution_count": 3,
   "metadata": {},
   "outputs": [],
   "source": [
    "from nltk import sent_tokenize, word_tokenize"
   ]
  },
  {
   "cell_type": "code",
   "execution_count": 16,
   "metadata": {},
   "outputs": [],
   "source": [
    "spell = SpellChecker()"
   ]
  },
  {
   "cell_type": "code",
   "execution_count": 17,
   "metadata": {},
   "outputs": [],
   "source": [
    "def spellCheckFunc(sentence):\n",
    "    split_sentence = word_tokenize(sentence)\n",
    "    new_sentence = []\n",
    "    for word in split_sentence:\n",
    "        print(word, \"-\", spell.candidates(word), \"-\", spell.correction(word))\n",
    "        new_word = spell.correction(word)\n",
    "        new_sentence.append(new_word)\n",
    "#         new_sentence = \" \".join(new_sentence)\n",
    "    new_sentence = \" \".join(new_sentence)\n",
    "    return new_sentence"
   ]
  },
  {
   "cell_type": "code",
   "execution_count": 18,
   "metadata": {
    "scrolled": true
   },
   "outputs": [
    {
     "name": "stdout",
     "output_type": "stream",
     "text": [
      "hllo threr iam devon.\n",
      "hllo - {'hallo', 'halo', 'hullo', 'hello', 'ello', 'allo'} - hello\n",
      "threr - {'threw', 'therr', 'ther', 'three', 'thre', 'tyrer', 'thier'} - three\n",
      "iam - {'ihm', 'ism', 'ham', 'nam', 'mam', 'jam', 'isam', 'liam', 'imam', 'lam', 'fam', 'igm', 'pam', 'icm', 'ian', 'zam', 'cam', 'sam', 'ipm', 'bam', 'am', 'ias', 'iom', 'aim', 'dam', 'siam', 'kam', 'ia', 'kiam', 'ram', 'tam', 'ibm', 'yam', 'im'} - am\n",
      "devon - {'devon'} - devon\n",
      ". - {'.'} - .\n",
      "hello three am devon .\n"
     ]
    }
   ],
   "source": [
    "print(ex_sentence)\n",
    "print(spellCheckFunc(ex_sentence))"
   ]
  },
  {
   "cell_type": "code",
   "execution_count": 13,
   "metadata": {},
   "outputs": [
    {
     "name": "stdout",
     "output_type": "stream",
     "text": [
      "teh ct iscool dont yuo thnk\n",
      "teh - {'teh'} - teh\n",
      "ct - {'ct'} - ct\n",
      "iscool - {'scowl', 'mccool', 'uncool', 'school', 'cool', 'scoop', 'spool', 'stool', 'scoot'} - school\n",
      "dont - {'dont'} - dont\n",
      "yuo - {'guo', 'you', 'yup', 'yeo', 'yul', 'yua', 'yugo', 'quo', 'yuh', 'duo', 'kuo', 'yum', 'yuko', 'luo', 'yo', 'yu', 'yao', 'yun', 'yuk'} - you\n",
      "thnk - {'thank', 'tank', 'thunk', 'tonk', 'thnn', 'tink', 'think'} - think\n",
      "teh ct school dont you think\n"
     ]
    }
   ],
   "source": [
    "print(ex_sentence2)\n",
    "print(spellCheckFunc(ex_sentence2))"
   ]
  },
  {
   "cell_type": "code",
   "execution_count": 23,
   "metadata": {},
   "outputs": [
    {
     "name": "stdout",
     "output_type": "stream",
     "text": [
      "hllo - {'allo', 'hullo', 'hello', 'hallo', 'ello', 'halo'} - hello\n",
      "thre - {'thre'} - thre\n",
      "iam - {'cam', 'ia', 'kam', 'am', 'sam', 'ihm', 'liam', 'ism', 'aim', 'jam', 'ram', 'zam', 'tam', 'pam', 'lam', 'siam', 'imam', 'fam', 'nam', 'im', 'igm', 'yam', 'mam', 'dam', 'bam', 'ibm', 'ias', 'ian', 'iom', 'isam', 'ipm', 'kiam', 'ham', 'icm'} - am\n",
      "devon - {'devon'} - devon\n",
      ". - {'.'} - .\n"
     ]
    },
    {
     "data": {
      "text/plain": [
       "['hello', 'thre', 'am', 'devon', '.']"
      ]
     },
     "execution_count": 23,
     "metadata": {},
     "output_type": "execute_result"
    }
   ],
   "source": [
    "spellCheckFunc(ex_sentence)"
   ]
  },
  {
   "cell_type": "code",
   "execution_count": null,
   "metadata": {},
   "outputs": [],
   "source": []
  }
 ],
 "metadata": {
  "kernelspec": {
   "display_name": "Python 3",
   "language": "python",
   "name": "python3"
  },
  "language_info": {
   "codemirror_mode": {
    "name": "ipython",
    "version": 3
   },
   "file_extension": ".py",
   "mimetype": "text/x-python",
   "name": "python",
   "nbconvert_exporter": "python",
   "pygments_lexer": "ipython3",
   "version": "3.7.1"
  }
 },
 "nbformat": 4,
 "nbformat_minor": 2
}
