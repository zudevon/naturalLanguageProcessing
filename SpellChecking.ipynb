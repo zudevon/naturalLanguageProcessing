{
 "cells": [
  {
   "cell_type": "markdown",
   "metadata": {},
   "source": [
    "# Spell Checking function"
   ]
  },
  {
   "cell_type": "code",
   "execution_count": 10,
   "metadata": {},
   "outputs": [],
   "source": [
    "import fuzzywuzzy\n",
    "import nltk\n",
    "from spellchecker import SpellChecker\n"
   ]
  },
  {
   "cell_type": "code",
   "execution_count": 11,
   "metadata": {},
   "outputs": [],
   "source": [
    "ex_sentence = 'hllo threr iam devon.'\n",
    "ex_sentence2= 'teh ct iscool dont yuo thnk'"
   ]
  },
  {
   "cell_type": "code",
   "execution_count": 12,
   "metadata": {},
   "outputs": [],
   "source": [
    "from nltk import sent_tokenize, word_tokenize"
   ]
  },
  {
   "cell_type": "code",
   "execution_count": 13,
   "metadata": {},
   "outputs": [],
   "source": [
    "spell = SpellChecker()"
   ]
  },
  {
   "cell_type": "code",
   "execution_count": 14,
   "metadata": {},
   "outputs": [],
   "source": [
    "import enchant\n",
    "d = enchant.Dict(\"en_US\")"
   ]
  },
  {
   "cell_type": "code",
   "execution_count": 18,
   "metadata": {},
   "outputs": [],
   "source": [
    "def spellCheckFunc(sentence):\n",
    "    split_sentence = word_tokenize(sentence)\n",
    "    new_sentence = []\n",
    "    for word in split_sentence:\n",
    "        \n",
    "        print(word, \"-\", spell.candidates(word), \"-\", spell.correction(word))\n",
    "        new_word = spell.correction(word)\n",
    "        \n",
    "#         if d.check(new_word):\n",
    "        new_sentence.append(new_word)\n",
    "            \n",
    "    new_sentence = \" \".join(new_sentence)\n",
    "    return new_sentence"
   ]
  },
  {
   "cell_type": "code",
   "execution_count": 19,
   "metadata": {
    "scrolled": true
   },
   "outputs": [
    {
     "name": "stdout",
     "output_type": "stream",
     "text": [
      "hllo threr iam devon.\n",
      "hllo - {'halo', 'allo', 'ello', 'hello', 'hullo', 'hallo'} - hello\n",
      "threr - {'thier', 'tyrer', 'ther', 'thre', 'three', 'threw', 'therr'} - three\n",
      "iam - {'ism', 'im', 'kam', 'ihm', 'cam', 'zam', 'lam', 'igm', 'yam', 'imam', 'am', 'nam', 'ias', 'ian', 'bam', 'jam', 'ia', 'icm', 'liam', 'dam', 'kiam', 'ipm', 'mam', 'pam', 'ham', 'ram', 'aim', 'sam', 'iom', 'siam', 'fam', 'isam', 'tam', 'ibm'} - am\n",
      "devon - {'devon'} - devon\n",
      ". - {'.'} - .\n",
      "hello three am devon .\n"
     ]
    }
   ],
   "source": [
    "print(ex_sentence)\n",
    "print(spellCheckFunc(ex_sentence))"
   ]
  },
  {
   "cell_type": "code",
   "execution_count": 7,
   "metadata": {},
   "outputs": [
    {
     "name": "stdout",
     "output_type": "stream",
     "text": [
      "teh ct iscool dont yuo thnk\n",
      "teh - {'teh'} - teh\n",
      "ct - {'ct'} - ct\n",
      "iscool - {'school', 'stool', 'spool', 'cool', 'scoot', 'uncool', 'mccool', 'scowl', 'scoop'} - school\n",
      "dont - {'dont'} - dont\n",
      "yuo - {'yeo', 'kuo', 'yuko', 'yu', 'yao', 'yup', 'yuh', 'quo', 'yuk', 'guo', 'yo', 'yua', 'yum', 'yul', 'duo', 'yugo', 'you', 'yun', 'luo'} - you\n",
      "thnk - {'thank', 'thunk', 'tank', 'tink', 'tonk', 'thnn', 'think'} - think\n",
      "teh ct school dont you think\n"
     ]
    }
   ],
   "source": [
    "print(ex_sentence2)\n",
    "print(spellCheckFunc(ex_sentence2))"
   ]
  },
  {
   "cell_type": "code",
   "execution_count": 8,
   "metadata": {},
   "outputs": [
    {
     "name": "stdout",
     "output_type": "stream",
     "text": [
      "hllo - {'halo', 'hullo', 'allo', 'ello', 'hallo', 'hello'} - hello\n",
      "threr - {'three', 'therr', 'thier', 'threw', 'thre', 'ther', 'tyrer'} - three\n",
      "iam - {'dam', 'siam', 'mam', 'zam', 'ipm', 'sam', 'bam', 'cam', 'kam', 'ia', 'nam', 'pam', 'icm', 'ibm', 'aim', 'ian', 'im', 'ias', 'ism', 'lam', 'igm', 'liam', 'tam', 'ram', 'jam', 'iom', 'am', 'imam', 'ihm', 'fam', 'yam', 'kiam', 'ham', 'isam'} - am\n",
      "devon - {'devon'} - devon\n",
      ". - {'.'} - .\n"
     ]
    },
    {
     "data": {
      "text/plain": [
       "'hello three am devon .'"
      ]
     },
     "execution_count": 8,
     "metadata": {},
     "output_type": "execute_result"
    }
   ],
   "source": [
    "a = \" helo i am devo nt he great how are tou today?\"\n",
    "b = \" the boy lwne tht e dtore\"\n",
    "c = \"hell o i went to t he hotdig stand ot get a hot doh\"\n",
    "\n",
    "\n",
    "spellCheckFunc(ex_sentence)"
   ]
  },
  {
   "cell_type": "markdown",
   "metadata": {},
   "source": [
    "# Word checking with Enchant\n",
    "<code>\n",
    "import enchant\n",
    "d = enchant.Dict(\"en_US\")\n",
    "d.check(\"Hello\")\n",
    "True\n",
    "</code>"
   ]
  },
  {
   "cell_type": "code",
   "execution_count": 9,
   "metadata": {},
   "outputs": [],
   "source": [
    "import enchant"
   ]
  },
  {
   "cell_type": "code",
   "execution_count": null,
   "metadata": {},
   "outputs": [],
   "source": []
  }
 ],
 "metadata": {
  "kernelspec": {
   "display_name": "Python 3",
   "language": "python",
   "name": "python3"
  },
  "language_info": {
   "codemirror_mode": {
    "name": "ipython",
    "version": 3
   },
   "file_extension": ".py",
   "mimetype": "text/x-python",
   "name": "python",
   "nbconvert_exporter": "python",
   "pygments_lexer": "ipython3",
   "version": "3.7.1"
  }
 },
 "nbformat": 4,
 "nbformat_minor": 2
}
