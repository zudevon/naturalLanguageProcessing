{
 "cells": [
  {
   "cell_type": "markdown",
   "metadata": {},
   "source": [
    "# Spell Checking function"
   ]
  },
  {
   "cell_type": "code",
   "execution_count": 7,
   "metadata": {},
   "outputs": [],
   "source": [
    "import fuzzywuzzy\n",
    "import nltk\n",
    "from spellchecker import SpellChecker\n"
   ]
  },
  {
   "cell_type": "code",
   "execution_count": 10,
   "metadata": {},
   "outputs": [],
   "source": [
    "ex_sentence = 'hllo thre iam devon.'\n",
    "ex_sentence2= 'teh ct iscool dont yuo thnk'"
   ]
  },
  {
   "cell_type": "code",
   "execution_count": 8,
   "metadata": {},
   "outputs": [],
   "source": [
    "from nltk import sent_tokenize, word_tokenize"
   ]
  },
  {
   "cell_type": "code",
   "execution_count": 15,
   "metadata": {},
   "outputs": [],
   "source": [
    "spell = SpellChecker(distance=2)"
   ]
  },
  {
   "cell_type": "code",
   "execution_count": 22,
   "metadata": {},
   "outputs": [],
   "source": [
    "def spellCheckFunc(sentence):\n",
    "    split_sentence = word_tokenize(sentence)\n",
    "    new_sentence = []\n",
    "    for word in split_sentence:\n",
    "        print(word, \"-\", spell.candidates(word), \"-\", spell.correction(word))\n",
    "        new_word = spell.correction(word)\n",
    "        new_sentence.append(new_word)\n",
    "    return new_sentence\n",
    "        \n",
    "    "
   ]
  },
  {
   "cell_type": "code",
   "execution_count": 16,
   "metadata": {},
   "outputs": [
    {
     "name": "stdout",
     "output_type": "stream",
     "text": [
      "hllo thre iam devon.\n",
      "['hello', 'thre', 'am', 'devon', '.']\n"
     ]
    }
   ],
   "source": [
    "print(ex_sentence)\n",
    "print(spellCheckFunc(ex_sentence))"
   ]
  },
  {
   "cell_type": "code",
   "execution_count": 17,
   "metadata": {},
   "outputs": [
    {
     "name": "stdout",
     "output_type": "stream",
     "text": [
      "teh cst is cool dont yuo thnk\n",
      "['teh', 'cst', 'is', 'cool', 'dont', 'you', 'think']\n"
     ]
    }
   ],
   "source": [
    "print(ex_sentence2)\n",
    "print(spellCheckFunc(ex_sentence2))"
   ]
  },
  {
   "cell_type": "code",
   "execution_count": 23,
   "metadata": {},
   "outputs": [
    {
     "name": "stdout",
     "output_type": "stream",
     "text": [
      "hllo - {'allo', 'hullo', 'hello', 'hallo', 'ello', 'halo'} - hello\n",
      "thre - {'thre'} - thre\n",
      "iam - {'cam', 'ia', 'kam', 'am', 'sam', 'ihm', 'liam', 'ism', 'aim', 'jam', 'ram', 'zam', 'tam', 'pam', 'lam', 'siam', 'imam', 'fam', 'nam', 'im', 'igm', 'yam', 'mam', 'dam', 'bam', 'ibm', 'ias', 'ian', 'iom', 'isam', 'ipm', 'kiam', 'ham', 'icm'} - am\n",
      "devon - {'devon'} - devon\n",
      ". - {'.'} - .\n"
     ]
    },
    {
     "data": {
      "text/plain": [
       "['hello', 'thre', 'am', 'devon', '.']"
      ]
     },
     "execution_count": 23,
     "metadata": {},
     "output_type": "execute_result"
    }
   ],
   "source": [
    "spellCheckFunc(ex_sentence)"
   ]
  },
  {
   "cell_type": "code",
   "execution_count": null,
   "metadata": {},
   "outputs": [],
   "source": []
  }
 ],
 "metadata": {
  "kernelspec": {
   "display_name": "Python 3",
   "language": "python",
   "name": "python3"
  },
  "language_info": {
   "codemirror_mode": {
    "name": "ipython",
    "version": 3
   },
   "file_extension": ".py",
   "mimetype": "text/x-python",
   "name": "python",
   "nbconvert_exporter": "python",
   "pygments_lexer": "ipython3",
   "version": "3.7.1"
  }
 },
 "nbformat": 4,
 "nbformat_minor": 2
}
